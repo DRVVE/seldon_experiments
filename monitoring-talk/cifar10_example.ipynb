{
 "cells": [
  {
   "cell_type": "markdown",
   "metadata": {},
   "source": [
    "## Train model"
   ]
  },
  {
   "cell_type": "markdown",
   "metadata": {},
   "source": [
    "#### Import data"
   ]
  },
  {
   "cell_type": "code",
   "execution_count": 65,
   "metadata": {},
   "outputs": [
    {
     "name": "stdout",
     "output_type": "stream",
     "text": [
      "(50000, 32, 32, 3) (50000, 1) (10000, 32, 32, 3) (10000, 1)\n"
     ]
    }
   ],
   "source": [
    "import logging\n",
    "import tensorflow as tf\n",
    "import matplotlib.pyplot as plt\n",
    "import numpy as np\n",
    "tf.keras.backend.clear_session()\n",
    "from tensorflow.keras.layers import Conv2D, Conv2DTranspose, \\\n",
    "    Dense, Layer, Reshape, InputLayer, Flatten\n",
    "\n",
    "logger = tf.get_logger()\n",
    "logger.setLevel(logging.ERROR)\n",
    "\n",
    "cifar_classes = [\"airplane\", \"automobile\", \"bird\", \"cat\", \"deer\", \"dog\", \"frog\", \"horse\", \"ship\", \"truck\"]\n",
    "\n",
    "train, test = tf.keras.datasets.cifar10.load_data()\n",
    "X_train, y_train = train\n",
    "X_test, y_test = test\n",
    "\n",
    "X_train = X_train.astype('float32') / 255\n",
    "X_test = X_test.astype('float32') / 255\n",
    "print(X_train.shape, y_train.shape, X_test.shape, y_test.shape)"
   ]
  },
  {
   "cell_type": "markdown",
   "metadata": {},
   "source": [
    "#### Accessing the trained ML model provided\n",
    "\n",
    "To simplify the interaction we have made available a tensorflow Resnet32 model trained with the CIFAR10 dataset.\n",
    "\n",
    "We'll be able to access this through the file provided in this public google bucket: `gs://seldon-models/tfserving/cifar10/resnet32`.\n",
    "\n",
    "We can copy it locally with the following command:"
   ]
  },
  {
   "cell_type": "code",
   "execution_count": 6,
   "metadata": {},
   "outputs": [
    {
     "name": "stdout",
     "output_type": "stream",
     "text": [
      "Copying gs://seldon-models/tfserving/cifar10/resnet32/1/saved_model.pb...\n",
      "Copying gs://seldon-models/tfserving/cifar10/resnet32/1/variables/variables.data-00000-of-00002...\n",
      "Copying gs://seldon-models/tfserving/cifar10/resnet32/1/variables/variables.data-00001-of-00002...\n",
      "Copying gs://seldon-models/tfserving/cifar10/resnet32/1/variables/variables.index...\n",
      "\\ [4 files][  7.2 MiB/  7.2 MiB]                                                \n",
      "Operation completed over 4 objects/7.2 MiB.                                      \n"
     ]
    }
   ],
   "source": [
    "!gsutil cp -r gs://seldon-models/tfserving/cifar10/resnet32 ."
   ]
  },
  {
   "cell_type": "markdown",
   "metadata": {},
   "source": [
    "#### (Optional) Training the model yourself\n",
    "\n",
    "The Alibi project provides a set of helpers that we can use to train the model. \n",
    "\n",
    "This uses the resnet32 model so it will take quite a few minutes even on a GPU.\n",
    "\n",
    "If you still want to train it yourself you can run the command below, alternatively we provide an uploaded model which we'll use."
   ]
  },
  {
   "cell_type": "code",
   "execution_count": 191,
   "metadata": {},
   "outputs": [
    {
     "data": {
      "text/plain": [
       "RandomForestClassifier(n_estimators=50)"
      ]
     },
     "execution_count": 191,
     "metadata": {},
     "output_type": "execute_result"
    }
   ],
   "source": [
    "!git clone https://github.com/SeldonIO/alibi-detect --branch v0.4.3\n",
    "\n",
    "!mkdir -p resnet32\n",
    "\n",
    "!python alibi-detect/alibi_detect/models/resnet.py --serving True --model_dir ./resnet32"
   ]
  },
  {
   "cell_type": "markdown",
   "metadata": {},
   "source": [
    "This trains and exports our model in to the ./model/ folder. \n",
    "\n",
    "We can then upload this folder as it is into a google bucket.\n",
    "\n",
    "If you follow this step, you will be able to use your own bucket instead of the one we provide."
   ]
  },
  {
   "cell_type": "code",
   "execution_count": 3,
   "metadata": {},
   "outputs": [
    {
     "name": "stdout",
     "output_type": "stream",
     "text": [
      "/bin/sh: 1: Syntax error: end of file unexpected\r\n"
     ]
    }
   ],
   "source": [
    "!gsutil cp -r ./model/ <yourbuckethere>"
   ]
  },
  {
   "cell_type": "markdown",
   "metadata": {},
   "source": [
    "#### Test Model Locally\n",
    "\n",
    "Once you follow one of the methods above, you are able to test the model locally.\n",
    "\n",
    "For this we have to load it with Tensorflow and then run a data instance through it."
   ]
  },
  {
   "cell_type": "code",
   "execution_count": 66,
   "metadata": {},
   "outputs": [],
   "source": [
    "model = tf.saved_model.load(\"resnet32/1/\")"
   ]
  },
  {
   "cell_type": "code",
   "execution_count": 67,
   "metadata": {},
   "outputs": [],
   "source": [
    "X_curr = X_train[1:2]"
   ]
  },
  {
   "cell_type": "code",
   "execution_count": 68,
   "metadata": {},
   "outputs": [
    {
     "data": {
      "text/plain": [
       "<matplotlib.image.AxesImage at 0x7f6916be83d0>"
      ]
     },
     "execution_count": 68,
     "metadata": {},
     "output_type": "execute_result"
    },
    {
     "data": {
      "image/png": "[encoded data removed]",
      "text/plain": [
       "<Figure size 432x288 with 1 Axes>"
      ]
     },
     "metadata": {
      "needs_background": "light"
     },
     "output_type": "display_data"
    }
   ],
   "source": [
    "plt.imshow(X_curr[0])"
   ]
  },
  {
   "cell_type": "code",
   "execution_count": 69,
   "metadata": {},
   "outputs": [
    {
     "data": {
      "text/plain": [
       "array([[1.2644829e-06, 4.8814401e-09, 1.5153264e-09, 8.4905425e-09,\n",
       "        5.5130661e-10, 1.1617126e-09, 5.7728627e-10, 2.8839472e-07,\n",
       "        6.1489339e-04, 9.9938357e-01]], dtype=float32)"
      ]
     },
     "execution_count": 69,
     "metadata": {},
     "output_type": "execute_result"
    }
   ],
   "source": [
    "X_curr_pred = model(X_curr)\n",
    "X_curr_pred.numpy()"
   ]
  },
  {
   "cell_type": "markdown",
   "metadata": {},
   "source": [
    "Prediction result based on model:"
   ]
  },
  {
   "cell_type": "code",
   "execution_count": 70,
   "metadata": {},
   "outputs": [
    {
     "data": {
      "text/plain": [
       "'truck'"
      ]
     },
     "execution_count": 70,
     "metadata": {},
     "output_type": "execute_result"
    }
   ],
   "source": [
    "cifar_classes[np.argmax(X_curr_pred)]"
   ]
  },
  {
   "cell_type": "markdown",
   "metadata": {},
   "source": [
    "## Deploy model"
   ]
  },
  {
   "cell_type": "code",
   "execution_count": 8,
   "metadata": {},
   "outputs": [
    {
     "name": "stdout",
     "output_type": "stream",
     "text": [
      "seldondeployment.machinelearning.seldon.io/cifar10 configured\n"
     ]
    }
   ],
   "source": [
    "%%bash\n",
    "kubectl apply -f - << END\n",
    "apiVersion: machinelearning.seldon.io/v1\n",
    "kind: SeldonDeployment\n",
    "metadata:\n",
    "  name: cifar10\n",
    "spec:\n",
    "  protocol: tensorflow\n",
    "  predictors:\n",
    "  - graph:\n",
    "      children: []\n",
    "      implementation: TENSORFLOW_SERVER\n",
    "      modelUri: gs://seldon-models/tfserving/cifar10/resnet32\n",
    "      name: resnet32\n",
    "    name: default\n",
    "    replicas: 1\n",
    "END"
   ]
  },
  {
   "cell_type": "code",
   "execution_count": 20,
   "metadata": {},
   "outputs": [
    {
     "name": "stdout",
     "output_type": "stream",
     "text": [
      "cifar10-default-0-resnet32-75bd765548-wqmx7   2/2     Running   0          10m\r\n",
      "cifar10-default-explainer-64d6685bfc-t2thp    1/1     Running   0          4m14s\r\n"
     ]
    }
   ],
   "source": [
    "!kubectl get pods | grep cifar"
   ]
  },
  {
   "cell_type": "code",
   "execution_count": 71,
   "metadata": {},
   "outputs": [
    {
     "name": "stdout",
     "output_type": "stream",
     "text": [
      "{'predictions': [[1.26448288e-06, 4.88144e-09, 1.51532642e-09, 8.49054249e-09, 5.51306611e-10, 1.16171261e-09, 5.77286274e-10, 2.88394716e-07, 0.00061489339, 0.999383569]]}\n"
     ]
    }
   ],
   "source": [
    "import requests\n",
    "X_curr = X_train[1:2]\n",
    "\n",
    "pred = requests.post(\"http://localhost:80/seldon/default/cifar10/v1/models/resnet32/:predict\", \n",
    "                     json={ \"instances\": X_curr.tolist() }).json()\n",
    "print(pred)"
   ]
  },
  {
   "cell_type": "code",
   "execution_count": 72,
   "metadata": {},
   "outputs": [
    {
     "data": {
      "text/plain": [
       "'truck'"
      ]
     },
     "execution_count": 72,
     "metadata": {},
     "output_type": "execute_result"
    }
   ],
   "source": [
    "cifar_classes[np.argmax(pred[\"predictions\"][0])]"
   ]
  },
  {
   "cell_type": "markdown",
   "metadata": {},
   "source": [
    "## Performance Monitoring"
   ]
  },
  {
   "cell_type": "code",
   "execution_count": null,
   "metadata": {},
   "outputs": [],
   "source": [
    "import time\n",
    "for X_i in X_test:\n",
    "    requests.post(\"http://localhost:80/seldon/default/cifar10/v1/models/resnet32/:predict\", \n",
    "                     json={ \"instances\": [X_i.tolist()] })\n",
    "    time.sleep(0.1)"
   ]
  },
  {
   "cell_type": "markdown",
   "metadata": {},
   "source": [
    "### Cluster Performance Metrics"
   ]
  },
  {
   "cell_type": "markdown",
   "metadata": {},
   "source": [
    "![](img/k8s-perf.jpg)"
   ]
  },
  {
   "cell_type": "markdown",
   "metadata": {},
   "source": [
    "### Model Performance Metrics"
   ]
  },
  {
   "cell_type": "markdown",
   "metadata": {},
   "source": [
    "![](img/perf.jpg)"
   ]
  },
  {
   "cell_type": "markdown",
   "metadata": {},
   "source": [
    "## Deploy Explainer"
   ]
  },
  {
   "cell_type": "code",
   "execution_count": 15,
   "metadata": {},
   "outputs": [
    {
     "name": "stdout",
     "output_type": "stream",
     "text": [
      "seldondeployment.machinelearning.seldon.io/cifar10 configured\n"
     ]
    }
   ],
   "source": [
    "%%bash\n",
    "kubectl apply -f - << END\n",
    "apiVersion: machinelearning.seldon.io/v1\n",
    "kind: SeldonDeployment\n",
    "metadata:\n",
    "  name: cifar10\n",
    "spec:\n",
    "  protocol: tensorflow\n",
    "  predictors:\n",
    "  - graph:\n",
    "      children: []\n",
    "      implementation: TENSORFLOW_SERVER\n",
    "      modelUri: gs://seldon-models/tfserving/cifar10/resnet32\n",
    "      name: resnet32\n",
    "    explainer:\n",
    "      type: AnchorImages\n",
    "      modelUri: gs://seldon-models/tfserving/cifar10/explainer-py36-0.5.2\n",
    "    name: default\n",
    "    replicas: 1\n",
    "END"
   ]
  },
  {
   "cell_type": "code",
   "execution_count": 21,
   "metadata": {},
   "outputs": [
    {
     "name": "stdout",
     "output_type": "stream",
     "text": [
      "cifar10-default-0-resnet32-75bd765548-wqmx7   2/2     Running   0          11m\r\n",
      "cifar10-default-explainer-64d6685bfc-t2thp    1/1     Running   0          4m40s\r\n"
     ]
    }
   ],
   "source": [
    "!kubectl get pods | grep cifar"
   ]
  },
  {
   "cell_type": "code",
   "execution_count": 73,
   "metadata": {},
   "outputs": [
    {
     "data": {
      "text/plain": [
       "<matplotlib.image.AxesImage at 0x7f69022e16d0>"
      ]
     },
     "execution_count": 73,
     "metadata": {},
     "output_type": "execute_result"
    },
    {
     "data": {
      "image/png": "[encoded data removed]",
      "text/plain": [
       "<Figure size 432x288 with 1 Axes>"
      ]
     },
     "metadata": {
      "needs_background": "light"
     },
     "output_type": "display_data"
    }
   ],
   "source": [
    "X_curr = X_train[1:2]\n",
    "\n",
    "plt.imshow(X_curr[0])"
   ]
  },
  {
   "cell_type": "code",
   "execution_count": 74,
   "metadata": {},
   "outputs": [
    {
     "name": "stdout",
     "output_type": "stream",
     "text": [
      "Coverage: 0.2529\n",
      "Precision: 1.0\n"
     ]
    }
   ],
   "source": [
    "import requests\n",
    "\n",
    "exp = requests.post(\"http://localhost:80/seldon/default/cifar10-explainer/default/v1/models/resnet32:explain\",\n",
    "                     json={ \"instances\": X_curr.tolist() }).json()\n",
    "print(f'Coverage: {exp[\"data\"][\"coverage\"]}')\n",
    "print(f'Precision: {exp[\"data\"][\"precision\"]}')"
   ]
  },
  {
   "cell_type": "code",
   "execution_count": 75,
   "metadata": {},
   "outputs": [
    {
     "data": {
      "text/plain": [
       "<matplotlib.image.AxesImage at 0x7f6908ec1dd0>"
      ]
     },
     "execution_count": 75,
     "metadata": {},
     "output_type": "execute_result"
    },
    {
     "data": {
      "image/png": "[encoded data removed]",
      "text/plain": [
       "<Figure size 432x288 with 1 Axes>"
      ]
     },
     "metadata": {
      "needs_background": "light"
     },
     "output_type": "display_data"
    }
   ],
   "source": [
    "exp_img = np.array(exp[\"data\"][\"anchor\"])\n",
    "plt.imshow(exp_img)"
   ]
  },
  {
   "cell_type": "markdown",
   "metadata": {},
   "source": [
    "## Enable Request Logger and Eventing"
   ]
  },
  {
   "cell_type": "code",
   "execution_count": 79,
   "metadata": {},
   "outputs": [
    {
     "name": "stdout",
     "output_type": "stream",
     "text": [
      "seldondeployment.machinelearning.seldon.io/cifar10 configured\n"
     ]
    }
   ],
   "source": [
    "%%bash\n",
    "kubectl apply -f - << END\n",
    "apiVersion: machinelearning.seldon.io/v1\n",
    "kind: SeldonDeployment\n",
    "metadata:\n",
    "  name: cifar10\n",
    "spec:\n",
    "  protocol: tensorflow\n",
    "  predictors:\n",
    "  - graph:\n",
    "      children: []\n",
    "      implementation: TENSORFLOW_SERVER\n",
    "      modelUri: gs://seldon-models/tfserving/cifar10/resnet32\n",
    "      name: resnet32\n",
    "      logger:\n",
    "        url: http://broker-ingress.knative-eventing.svc.cluster.local/default/default\n",
    "        mode: all\n",
    "    explainer:\n",
    "      type: AnchorImages\n",
    "      modelUri: gs://seldon-models/tfserving/cifar10/explainer-py36-0.5.2\n",
    "    name: default\n",
    "    replicas: 1\n",
    "END"
   ]
  },
  {
   "cell_type": "code",
   "execution_count": 93,
   "metadata": {},
   "outputs": [
    {
     "name": "stdout",
     "output_type": "stream",
     "text": [
      "deployment.apps/cifar10-outlier-detector configured\n",
      "service/cifar10-outlier-detector unchanged\n"
     ]
    }
   ],
   "source": [
    "%%bash\n",
    "kubectl apply -f - << END\n",
    "apiVersion: apps/v1\n",
    "kind: Deployment\n",
    "metadata:\n",
    "  name: cifar10-outlier-detector\n",
    "  labels:\n",
    "    app: cifar10-outlier-detector\n",
    "spec:\n",
    "  replicas: 1\n",
    "  selector:\n",
    "    matchLabels:\n",
    "      app: cifar10-outlier-detector\n",
    "  template:\n",
    "    metadata:\n",
    "      annotations:\n",
    "        prometheus.io/path: \"/v1/metrics\"\n",
    "        prometheus.io/scrape: \"true\"\n",
    "      labels:\n",
    "        app: cifar10-outlier-detector\n",
    "    spec:\n",
    "      securityContext:\n",
    "          runAsUser: 8888\n",
    "      containers:\n",
    "      - name: user-container\n",
    "        image: seldonio/alibi-detect-server:1.5.0-dev\n",
    "        imagePullPolicy: IfNotPresent\n",
    "        args:\n",
    "        - --model_name\n",
    "        - cifar10od\n",
    "        - --http_port\n",
    "        - '8080'\n",
    "        - --protocol\n",
    "        - tensorflow.http\n",
    "        - --storage_uri\n",
    "        - gs://seldon-models/alibi-detect/od/OutlierVAE/cifar10\n",
    "        - --reply_url\n",
    "        - http://broker-ingress.knative-eventing.svc.cluster.local/default/default\n",
    "        - --event_type\n",
    "        - io.seldon.serving.inference.outlier\n",
    "        - --event_source\n",
    "        - io.seldon.serving.cifar10od\n",
    "        - OutlierDetector\n",
    "        ports:\n",
    "        - containerPort: 8080\n",
    "          name: metrics\n",
    "          protocol: TCP\n",
    "---\n",
    "apiVersion: v1\n",
    "kind: Service\n",
    "metadata:\n",
    "  name: cifar10-outlier-detector\n",
    "  labels:\n",
    "    app: cifar10-outlier-detector\n",
    "spec:\n",
    "  selector:\n",
    "    app: cifar10-outlier-detector\n",
    "  ports:\n",
    "    - protocol: TCP\n",
    "      port: 80\n",
    "      targetPort: 8080\n",
    "END"
   ]
  },
  {
   "cell_type": "code",
   "execution_count": 76,
   "metadata": {},
   "outputs": [
    {
     "name": "stdout",
     "output_type": "stream",
     "text": [
      "customresourcedefinition.apiextensions.k8s.io/apiserversources.sources.knative.dev unchanged\n",
      "customresourcedefinition.apiextensions.k8s.io/brokers.eventing.knative.dev unchanged\n",
      "customresourcedefinition.apiextensions.k8s.io/channels.messaging.knative.dev unchanged\n",
      "customresourcedefinition.apiextensions.k8s.io/containersources.sources.knative.dev unchanged\n",
      "customresourcedefinition.apiextensions.k8s.io/eventtypes.eventing.knative.dev unchanged\n",
      "customresourcedefinition.apiextensions.k8s.io/parallels.flows.knative.dev unchanged\n",
      "customresourcedefinition.apiextensions.k8s.io/pingsources.sources.knative.dev unchanged\n",
      "customresourcedefinition.apiextensions.k8s.io/sequences.flows.knative.dev unchanged\n",
      "customresourcedefinition.apiextensions.k8s.io/sinkbindings.sources.knative.dev unchanged\n",
      "customresourcedefinition.apiextensions.k8s.io/subscriptions.messaging.knative.dev unchanged\n",
      "customresourcedefinition.apiextensions.k8s.io/triggers.eventing.knative.dev unchanged\n",
      "namespace/knative-eventing unchanged\n",
      "serviceaccount/eventing-controller unchanged\n",
      "clusterrolebinding.rbac.authorization.k8s.io/eventing-controller unchanged\n",
      "clusterrolebinding.rbac.authorization.k8s.io/eventing-controller-resolver unchanged\n",
      "clusterrolebinding.rbac.authorization.k8s.io/eventing-controller-source-observer unchanged\n",
      "clusterrolebinding.rbac.authorization.k8s.io/eventing-controller-sources-controller unchanged\n",
      "clusterrolebinding.rbac.authorization.k8s.io/eventing-controller-manipulator unchanged\n",
      "serviceaccount/pingsource-mt-adapter unchanged\n",
      "clusterrolebinding.rbac.authorization.k8s.io/knative-eventing-pingsource-mt-adapter unchanged\n",
      "serviceaccount/eventing-webhook unchanged\n",
      "clusterrolebinding.rbac.authorization.k8s.io/eventing-webhook unchanged\n",
      "clusterrolebinding.rbac.authorization.k8s.io/eventing-webhook-resolver unchanged\n",
      "clusterrolebinding.rbac.authorization.k8s.io/eventing-webhook-podspecable-binding unchanged\n",
      "configmap/config-br-default-channel unchanged\n",
      "configmap/config-br-defaults unchanged\n",
      "configmap/default-ch-webhook unchanged\n",
      "configmap/config-leader-election unchanged\n",
      "configmap/config-logging unchanged\n",
      "configmap/config-observability unchanged\n",
      "configmap/config-tracing unchanged\n",
      "deployment.apps/eventing-controller unchanged\n",
      "deployment.apps/pingsource-mt-adapter configured\n",
      "deployment.apps/eventing-webhook unchanged\n",
      "service/eventing-webhook unchanged\n",
      "customresourcedefinition.apiextensions.k8s.io/apiserversources.sources.knative.dev unchanged\n",
      "customresourcedefinition.apiextensions.k8s.io/brokers.eventing.knative.dev unchanged\n",
      "customresourcedefinition.apiextensions.k8s.io/channels.messaging.knative.dev unchanged\n",
      "customresourcedefinition.apiextensions.k8s.io/containersources.sources.knative.dev unchanged\n",
      "customresourcedefinition.apiextensions.k8s.io/eventtypes.eventing.knative.dev unchanged\n",
      "customresourcedefinition.apiextensions.k8s.io/parallels.flows.knative.dev unchanged\n",
      "customresourcedefinition.apiextensions.k8s.io/pingsources.sources.knative.dev unchanged\n",
      "customresourcedefinition.apiextensions.k8s.io/sequences.flows.knative.dev unchanged\n",
      "customresourcedefinition.apiextensions.k8s.io/sinkbindings.sources.knative.dev unchanged\n",
      "customresourcedefinition.apiextensions.k8s.io/subscriptions.messaging.knative.dev unchanged\n",
      "customresourcedefinition.apiextensions.k8s.io/triggers.eventing.knative.dev unchanged\n",
      "clusterrole.rbac.authorization.k8s.io/addressable-resolver configured\n",
      "clusterrole.rbac.authorization.k8s.io/service-addressable-resolver unchanged\n",
      "clusterrole.rbac.authorization.k8s.io/serving-addressable-resolver unchanged\n",
      "clusterrole.rbac.authorization.k8s.io/channel-addressable-resolver unchanged\n",
      "clusterrole.rbac.authorization.k8s.io/broker-addressable-resolver unchanged\n",
      "clusterrole.rbac.authorization.k8s.io/messaging-addressable-resolver unchanged\n",
      "clusterrole.rbac.authorization.k8s.io/flows-addressable-resolver unchanged\n",
      "clusterrole.rbac.authorization.k8s.io/eventing-broker-filter unchanged\n",
      "clusterrole.rbac.authorization.k8s.io/eventing-broker-ingress unchanged\n",
      "clusterrole.rbac.authorization.k8s.io/eventing-config-reader unchanged\n",
      "clusterrole.rbac.authorization.k8s.io/channelable-manipulator configured\n",
      "clusterrole.rbac.authorization.k8s.io/meta-channelable-manipulator unchanged\n",
      "clusterrole.rbac.authorization.k8s.io/knative-eventing-namespaced-admin unchanged\n",
      "clusterrole.rbac.authorization.k8s.io/knative-messaging-namespaced-admin unchanged\n",
      "clusterrole.rbac.authorization.k8s.io/knative-flows-namespaced-admin unchanged\n",
      "clusterrole.rbac.authorization.k8s.io/knative-sources-namespaced-admin unchanged\n",
      "clusterrole.rbac.authorization.k8s.io/knative-bindings-namespaced-admin unchanged\n",
      "clusterrole.rbac.authorization.k8s.io/knative-eventing-namespaced-edit unchanged\n",
      "clusterrole.rbac.authorization.k8s.io/knative-eventing-namespaced-view unchanged\n",
      "clusterrole.rbac.authorization.k8s.io/knative-eventing-controller unchanged\n",
      "clusterrole.rbac.authorization.k8s.io/knative-eventing-pingsource-mt-adapter unchanged\n",
      "clusterrole.rbac.authorization.k8s.io/podspecable-binding configured\n",
      "clusterrole.rbac.authorization.k8s.io/builtin-podspecable-binding unchanged\n",
      "clusterrole.rbac.authorization.k8s.io/source-observer configured\n",
      "clusterrole.rbac.authorization.k8s.io/eventing-sources-source-observer unchanged\n",
      "clusterrole.rbac.authorization.k8s.io/knative-eventing-sources-controller unchanged\n",
      "clusterrole.rbac.authorization.k8s.io/knative-eventing-webhook unchanged\n",
      "validatingwebhookconfiguration.admissionregistration.k8s.io/config.webhook.eventing.knative.dev unchanged\n",
      "mutatingwebhookconfiguration.admissionregistration.k8s.io/webhook.eventing.knative.dev unchanged\n",
      "validatingwebhookconfiguration.admissionregistration.k8s.io/validation.webhook.eventing.knative.dev unchanged\n",
      "secret/eventing-webhook-certs unchanged\n",
      "mutatingwebhookconfiguration.admissionregistration.k8s.io/sinkbindings.webhook.sources.knative.dev unchanged\n",
      "configmap/config-imc-event-dispatcher unchanged\n",
      "clusterrole.rbac.authorization.k8s.io/imc-addressable-resolver unchanged\n",
      "clusterrole.rbac.authorization.k8s.io/imc-channelable-manipulator unchanged\n",
      "clusterrole.rbac.authorization.k8s.io/imc-controller unchanged\n",
      "serviceaccount/imc-controller unchanged\n",
      "clusterrole.rbac.authorization.k8s.io/imc-dispatcher unchanged\n",
      "service/imc-dispatcher unchanged\n",
      "serviceaccount/imc-dispatcher unchanged\n",
      "clusterrolebinding.rbac.authorization.k8s.io/imc-controller unchanged\n",
      "clusterrolebinding.rbac.authorization.k8s.io/imc-dispatcher unchanged\n",
      "customresourcedefinition.apiextensions.k8s.io/inmemorychannels.messaging.knative.dev unchanged\n",
      "deployment.apps/imc-controller unchanged\n",
      "deployment.apps/imc-dispatcher unchanged\n",
      "clusterrole.rbac.authorization.k8s.io/knative-eventing-mt-channel-broker-controller unchanged\n",
      "clusterrole.rbac.authorization.k8s.io/knative-eventing-mt-broker-filter unchanged\n",
      "serviceaccount/mt-broker-filter unchanged\n",
      "clusterrole.rbac.authorization.k8s.io/knative-eventing-mt-broker-ingress unchanged\n",
      "serviceaccount/mt-broker-ingress unchanged\n",
      "clusterrolebinding.rbac.authorization.k8s.io/eventing-mt-channel-broker-controller unchanged\n",
      "clusterrolebinding.rbac.authorization.k8s.io/knative-eventing-mt-broker-filter unchanged\n",
      "clusterrolebinding.rbac.authorization.k8s.io/knative-eventing-mt-broker-ingress unchanged\n",
      "deployment.apps/mt-broker-filter unchanged\n",
      "service/broker-filter unchanged\n",
      "deployment.apps/mt-broker-ingress unchanged\n",
      "service/broker-ingress unchanged\n",
      "deployment.apps/mt-broker-controller unchanged\n",
      "horizontalpodautoscaler.autoscaling/broker-ingress-hpa unchanged\n",
      "horizontalpodautoscaler.autoscaling/broker-filter-hpa unchanged\n"
     ]
    }
   ],
   "source": [
    "!kubectl apply --filename https://github.com/knative/eventing/releases/download/v0.19.0/eventing-crds.yaml\n",
    "!kubectl apply --filename https://github.com/knative/eventing/releases/download/v0.19.0/eventing-core.yaml\n",
    "!kubectl apply --filename https://github.com/knative/eventing/releases/download/v0.19.0/in-memory-channel.yaml\n",
    "!kubectl apply --filename https://github.com/knative/eventing/releases/download/v0.19.0/mt-channel-broker.yaml"
   ]
  },
  {
   "cell_type": "code",
   "execution_count": 77,
   "metadata": {},
   "outputs": [
    {
     "name": "stdout",
     "output_type": "stream",
     "text": [
      "broker.eventing.knative.dev/default unchanged\n"
     ]
    }
   ],
   "source": [
    "%%bash\n",
    "kubectl apply -f - << END\n",
    "apiVersion: eventing.knative.dev/v1\n",
    "kind: Broker\n",
    "metadata:\n",
    "  name: default\n",
    "spec: {}\n",
    "END"
   ]
  },
  {
   "cell_type": "code",
   "execution_count": 78,
   "metadata": {
    "scrolled": true
   },
   "outputs": [
    {
     "name": "stdout",
     "output_type": "stream",
     "text": [
      "NAME      URL                                                                        AGE   READY   REASON\r\n",
      "default   http://broker-ingress.knative-eventing.svc.cluster.local/default/default   28h   True    \r\n"
     ]
    }
   ],
   "source": [
    "!kubectl get broker"
   ]
  },
  {
   "cell_type": "code",
   "execution_count": 89,
   "metadata": {},
   "outputs": [
    {
     "name": "stdout",
     "output_type": "stream",
     "text": [
      "trigger.eventing.knative.dev/cifar10-outlier-detector-trigger configured\n"
     ]
    }
   ],
   "source": [
    "%%bash\n",
    "kubectl apply -f - << END\n",
    "apiVersion: eventing.knative.dev/v1\n",
    "kind: Trigger\n",
    "metadata:\n",
    "  name: cifar10-outlier-detector-trigger\n",
    "spec:\n",
    "  broker: default\n",
    "  filter:\n",
    "    attributes:\n",
    "      type: io.seldon.serving.inference.request\n",
    "  subscriber:\n",
    "    ref:\n",
    "      apiVersion: v1\n",
    "      kind: Service\n",
    "      name: cifar10-outlier-detector\n",
    "END "
   ]
  },
  {
   "cell_type": "code",
   "execution_count": 88,
   "metadata": {},
   "outputs": [
    {
     "name": "stdout",
     "output_type": "stream",
     "text": [
      "NAME                               BROKER    SUBSCRIBER_URI                                               AGE   READY   REASON\r\n",
      "cifar10-outlier-detector-trigger   default   http://cifar10-outlier-detector.default.svc.cluster.local/   6s    True    \r\n"
     ]
    }
   ],
   "source": [
    "!kubectl get trigger"
   ]
  },
  {
   "cell_type": "code",
   "execution_count": 94,
   "metadata": {},
   "outputs": [
    {
     "name": "stdout",
     "output_type": "stream",
     "text": [
      "{'predictions': [[1.26448288e-06, 4.88144e-09, 1.51532642e-09, 8.49054249e-09, 5.51306611e-10, 1.16171261e-09, 5.77286274e-10, 2.88394716e-07, 0.00061489339, 0.999383569]]}\n"
     ]
    }
   ],
   "source": [
    "import requests\n",
    "X_curr = X_train[1:2]\n",
    "\n",
    "pred = requests.post(\"http://localhost:80/seldon/default/cifar10/v1/models/resnet32/:predict\", \n",
    "                     json={ \"instances\": X_curr.tolist() }).json()\n",
    "print(pred)"
   ]
  },
  {
   "cell_type": "code",
   "execution_count": 98,
   "metadata": {},
   "outputs": [
    {
     "name": "stdout",
     "output_type": "stream",
     "text": [
      "> GET /v1/metrics HTTP/1.1\r",
      "\r",
      "\r\n",
      "> User-Agent: curl/7.35.0\r",
      "\r",
      "\r\n",
      "> Host: cifar10-outlier-detector.default.svc.cluster.local\r",
      "\r",
      "\r\n",
      "> Accept: */*\r",
      "\r",
      "\r\n",
      "> \r",
      "\r",
      "\r\n",
      "< HTTP/1.1 200 OK\r",
      "\r",
      "\r\n",
      "< Server: TornadoServer/6.1\r",
      "\r",
      "\r\n",
      "< Content-Type: text/plain; version=0.0.4; charset=utf-8\r",
      "\r",
      "\r\n",
      "< Date: Mon, 07 Dec 2020 18:29:25 GMT\r",
      "\r",
      "\r\n",
      "< Etag: \"da39a3ee5e6b4b0d3255bfef95601890afd80709\"\r",
      "\r",
      "\r\n",
      "< Content-Length: 0\r",
      "\r",
      "\r\n",
      "< \r",
      "\r",
      "\r\n"
     ]
    }
   ],
   "source": [
    "!kubectl run --quiet=true -it --rm curl --image=radial/busyboxplus:curl --restart=Never -- \\\n",
    "    curl -X GET -v \"http://cifar10-outlier-detector.default.svc.cluster.local:80/v1/metrics\""
   ]
  },
  {
   "cell_type": "code",
   "execution_count": null,
   "metadata": {},
   "outputs": [],
   "source": []
  }
 ],
 "metadata": {
  "kernelspec": {
   "display_name": "Python 3",
   "language": "python",
   "name": "python3"
  },
  "language_info": {
   "codemirror_mode": {
    "name": "ipython",
    "version": 3
   },
   "file_extension": ".py",
   "mimetype": "text/x-python",
   "name": "python",
   "nbconvert_exporter": "python",
   "pygments_lexer": "ipython3",
   "version": "3.7.4"
  }
 },
 "nbformat": 4,
 "nbformat_minor": 2
}
